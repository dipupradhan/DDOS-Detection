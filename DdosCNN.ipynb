{
  "nbformat": 4,
  "nbformat_minor": 0,
  "metadata": {
    "colab": {
      "provenance": [],
      "gpuType": "T4",
      "toc_visible": true
    },
    "kernelspec": {
      "name": "python3",
      "display_name": "Python 3"
    },
    "language_info": {
      "name": "python"
    }
  },
  "cells": [
    {
      "cell_type": "code",
      "source": [
        "import pandas as pd\n",
        "from sklearn.model_selection import train_test_split\n",
        "from sklearn.preprocessing import StandardScaler\n",
        "import tensorflow as tf\n",
        "from tensorflow import keras\n",
        "from tensorflow.keras import layers\n",
        "import matplotlib.pyplot as plt"
      ],
      "metadata": {
        "id": "ITSMSJNuw5rh"
      },
      "execution_count": null,
      "outputs": []
    },
    {
      "cell_type": "code",
      "source": [
        "# Load the CICDDoS-2019 dataset\n",
        "data = pd.read_csv('/content/drive/MyDrive/dataset-1/cicddos2019_dataset.csv')\n",
        "data.head()"
      ],
      "metadata": {
        "id": "mPH5bjlEW_W8"
      },
      "execution_count": null,
      "outputs": []
    },
    {
      "cell_type": "code",
      "source": [
        "df = pd.DataFrame(data)\n",
        "\n",
        "my_list = list(df)\n",
        "\n",
        "print (my_list)\n",
        "print (type(my_list))"
      ],
      "metadata": {
        "colab": {
          "base_uri": "https://localhost:8080/"
        },
        "id": "KNQ0our1YsIO",
        "outputId": "3afaf036-6704-49b1-f9d3-0c4378dd848e"
      },
      "execution_count": null,
      "outputs": [
        {
          "output_type": "stream",
          "name": "stdout",
          "text": [
            "['Unnamed: 0', 'Protocol', 'Flow Duration', 'Total Fwd Packets', 'Total Backward Packets', 'Fwd Packets Length Total', 'Bwd Packets Length Total', 'Fwd Packet Length Max', 'Fwd Packet Length Min', 'Fwd Packet Length Mean', 'Fwd Packet Length Std', 'Bwd Packet Length Max', 'Bwd Packet Length Min', 'Bwd Packet Length Mean', 'Bwd Packet Length Std', 'Flow Bytes/s', 'Flow Packets/s', 'Flow IAT Mean', 'Flow IAT Std', 'Flow IAT Max', 'Flow IAT Min', 'Fwd IAT Total', 'Fwd IAT Mean', 'Fwd IAT Std', 'Fwd IAT Max', 'Fwd IAT Min', 'Bwd IAT Total', 'Bwd IAT Mean', 'Bwd IAT Std', 'Bwd IAT Max', 'Bwd IAT Min', 'Fwd PSH Flags', 'Bwd PSH Flags', 'Fwd URG Flags', 'Bwd URG Flags', 'Fwd Header Length', 'Bwd Header Length', 'Fwd Packets/s', 'Bwd Packets/s', 'Packet Length Min', 'Packet Length Max', 'Packet Length Mean', 'Packet Length Std', 'Packet Length Variance', 'FIN Flag Count', 'SYN Flag Count', 'RST Flag Count', 'PSH Flag Count', 'ACK Flag Count', 'URG Flag Count', 'CWE Flag Count', 'ECE Flag Count', 'Down/Up Ratio', 'Avg Packet Size', 'Avg Fwd Segment Size', 'Avg Bwd Segment Size', 'Fwd Avg Bytes/Bulk', 'Fwd Avg Packets/Bulk', 'Fwd Avg Bulk Rate', 'Bwd Avg Bytes/Bulk', 'Bwd Avg Packets/Bulk', 'Bwd Avg Bulk Rate', 'Subflow Fwd Packets', 'Subflow Fwd Bytes', 'Subflow Bwd Packets', 'Subflow Bwd Bytes', 'Init Fwd Win Bytes', 'Init Bwd Win Bytes', 'Fwd Act Data Packets', 'Fwd Seg Size Min', 'Active Mean', 'Active Std', 'Active Max', 'Active Min', 'Idle Mean', 'Idle Std', 'Idle Max', 'Idle Min', 'Label', 'Class']\n",
            "<class 'list'>\n"
          ]
        }
      ]
    },
    {
      "cell_type": "code",
      "source": [
        "classes = ['Attack','Benign']\n",
        "len(classes)"
      ],
      "metadata": {
        "colab": {
          "base_uri": "https://localhost:8080/"
        },
        "id": "cjAGgcrGZ5a_",
        "outputId": "87bba5de-e6d6-4c28-c280-82fe91f84058"
      },
      "execution_count": null,
      "outputs": [
        {
          "output_type": "execute_result",
          "data": {
            "text/plain": [
              "2"
            ]
          },
          "metadata": {},
          "execution_count": 6
        }
      ]
    },
    {
      "cell_type": "code",
      "source": [
        "features = data.drop(columns=['Label','Class','Active Mean','Active Std','Active Max','Active Min','Idle Mean','Idle Std','Idle Max','Idle Min'])\n",
        "target = []"
      ],
      "metadata": {
        "id": "QQvlegyAaENq"
      },
      "execution_count": null,
      "outputs": []
    },
    {
      "cell_type": "code",
      "source": [
        "#df = df.reset_index()  # make sure indexes pair with number of rows\n",
        "\n",
        "for index, row in df.iterrows():\n",
        "    target.append(classes.index(row['Class']))"
      ],
      "metadata": {
        "id": "mtb8VuvIaPR6"
      },
      "execution_count": null,
      "outputs": []
    },
    {
      "cell_type": "code",
      "source": [
        "len(target)"
      ],
      "metadata": {
        "colab": {
          "base_uri": "https://localhost:8080/"
        },
        "id": "bFdlUG5sekY4",
        "outputId": "af122c74-f8fc-4d8e-c8ff-8070ce6c086b"
      },
      "execution_count": null,
      "outputs": [
        {
          "output_type": "execute_result",
          "data": {
            "text/plain": [
              "431371"
            ]
          },
          "metadata": {},
          "execution_count": 9
        }
      ]
    },
    {
      "cell_type": "code",
      "source": [
        "# Split the dataset into training and testing sets\n",
        "X_train, X_test, y_train, y_test = train_test_split(features, target, test_size=0.2, random_state=42)\n",
        "\n",
        "# Standardize the input features\n",
        "scaler = StandardScaler()\n",
        "X_train = scaler.fit_transform(X_train)\n",
        "X_test = scaler.transform(X_test)\n",
        "\n",
        "# Reshape the input features for CNN model\n",
        "X_train = X_train.reshape(X_train.shape[0], X_train.shape[1], 1)\n",
        "X_test = X_test.reshape(X_test.shape[0], X_test.shape[1], 1)\n"
      ],
      "metadata": {
        "id": "mV9HBRLMbgUi"
      },
      "execution_count": null,
      "outputs": []
    },
    {
      "cell_type": "code",
      "source": [
        "import numpy as np\n",
        "X_train = np.array(X_train)\n",
        "y_train = np.array(y_train)\n",
        "X_test = np.array(X_test)\n",
        "y_test = np.array(y_test)"
      ],
      "metadata": {
        "id": "fvTMxNq-fq2y"
      },
      "execution_count": null,
      "outputs": []
    },
    {
      "cell_type": "code",
      "source": [
        "# Define the CNN model architecture\n",
        "model = keras.Sequential([\n",
        "    layers.Conv1D(32, kernel_size=3, activation='relu', input_shape=(X_train.shape[1], 1)),\n",
        "    layers.MaxPooling1D(pool_size=2),\n",
        "    layers.Flatten(),\n",
        "    layers.Dense(64, activation='relu'),\n",
        "    layers.Dense(1, activation='sigmoid')\n",
        "])\n",
        "\n",
        "# Compile the model\n",
        "model.compile(optimizer='adam', loss='binary_crossentropy', metrics=['accuracy'])\n",
        "\n",
        "# Train the model\n",
        "history = model.fit(X_train, y_train, batch_size=64, epochs=10, validation_data=(X_test, y_test))\n",
        "\n",
        "# Evaluate the model\n",
        "loss, accuracy = model.evaluate(X_test, y_test)\n",
        "print(f'Test Loss: {loss:.4f}')\n",
        "print(f'Test Accuracy: {accuracy:.4f}')\n"
      ],
      "metadata": {
        "id": "RNd5dXQTb8LC",
        "colab": {
          "base_uri": "https://localhost:8080/"
        },
        "outputId": "2111828f-4a89-450a-8a97-9cf6c53caade"
      },
      "execution_count": null,
      "outputs": [
        {
          "output_type": "stream",
          "name": "stdout",
          "text": [
            "Epoch 1/10\n",
            "5393/5393 [==============================] - 45s 8ms/step - loss: 0.0200 - accuracy: 0.9954 - val_loss: 0.0129 - val_accuracy: 0.9957\n",
            "Epoch 2/10\n",
            "5393/5393 [==============================] - 40s 7ms/step - loss: 0.0115 - accuracy: 0.9972 - val_loss: 0.0122 - val_accuracy: 0.9974\n",
            "Epoch 3/10\n",
            "5393/5393 [==============================] - 41s 8ms/step - loss: 0.0097 - accuracy: 0.9975 - val_loss: 0.0088 - val_accuracy: 0.9976\n",
            "Epoch 4/10\n",
            "5393/5393 [==============================] - 41s 8ms/step - loss: 0.0087 - accuracy: 0.9978 - val_loss: 0.0099 - val_accuracy: 0.9977\n",
            "Epoch 5/10\n",
            "5393/5393 [==============================] - 38s 7ms/step - loss: 0.0097 - accuracy: 0.9979 - val_loss: 0.0081 - val_accuracy: 0.9980\n",
            "Epoch 6/10\n",
            "5393/5393 [==============================] - 39s 7ms/step - loss: 0.0075 - accuracy: 0.9980 - val_loss: 0.0080 - val_accuracy: 0.9979\n",
            "Epoch 7/10\n",
            "5393/5393 [==============================] - 44s 8ms/step - loss: 0.0076 - accuracy: 0.9981 - val_loss: 0.0088 - val_accuracy: 0.9979\n",
            "Epoch 8/10\n",
            "5393/5393 [==============================] - 42s 8ms/step - loss: 0.0067 - accuracy: 0.9982 - val_loss: 0.0069 - val_accuracy: 0.9979\n",
            "Epoch 9/10\n",
            "5393/5393 [==============================] - 42s 8ms/step - loss: 0.0065 - accuracy: 0.9982 - val_loss: 0.0071 - val_accuracy: 0.9980\n",
            "Epoch 10/10\n",
            "5393/5393 [==============================] - 42s 8ms/step - loss: 0.0061 - accuracy: 0.9982 - val_loss: 0.0099 - val_accuracy: 0.9981\n",
            "2697/2697 [==============================] - 5s 2ms/step - loss: 0.0099 - accuracy: 0.9981\n",
            "Test Loss: 0.0099\n",
            "Test Accuracy: 0.9981\n"
          ]
        }
      ]
    },
    {
      "cell_type": "code",
      "source": [
        "# Plot the accuracy graph\n",
        "accuracy = history.history['accuracy']\n",
        "val_accuracy = history.history['val_accuracy']\n",
        "epochs = range(1, len(accuracy) + 1)\n",
        "\n",
        "plt.plot(epochs, accuracy, 'b', label='Training Accuracy')\n",
        "plt.plot(epochs, val_accuracy, 'r', label='Validation Accuracy')\n",
        "plt.title('Training and Validation Accuracy')\n",
        "plt.xlabel('Epochs')\n",
        "plt.ylabel('Accuracy')\n",
        "plt.legend()\n",
        "plt.show()"
      ],
      "metadata": {
        "colab": {
          "base_uri": "https://localhost:8080/",
          "height": 472
        },
        "id": "E-xL2nk2xuTE",
        "outputId": "bcea5bc6-3d5b-4ed9-b07f-0a3f4134faad"
      },
      "execution_count": null,
      "outputs": [
        {
          "output_type": "display_data",
          "data": {
            "text/plain": [
              "<Figure size 640x480 with 1 Axes>"
            ],
            "image/png": "[encoded data removed]"
          },
          "metadata": {}
        }
      ]
    }
  ]
}